{
 "cells": [
  {
   "cell_type": "code",
   "execution_count": null,
   "id": "239f1128",
   "metadata": {},
   "outputs": [],
   "source": [
    "\n",
    "import rasterio\n",
    "import numpy as np\n",
    "import matplotlib.pyplot as plt \n",
    "from datetime import date\n",
    "import openeo"
   ]
  },
  {
   "cell_type": "code",
   "execution_count": null,
   "id": "ffd3170b",
   "metadata": {},
   "outputs": [],
   "source": [
    "connection = openeo.connect(\"https://openeo.dataspace.copernicus.eu\").authenticate_oidc()"
   ]
  }
 ],
 "metadata": {
  "kernelspec": {
   "display_name": "ds-env",
   "language": "python",
   "name": "python3"
  },
  "language_info": {
   "codemirror_mode": {
    "name": "ipython",
    "version": 3
   },
   "file_extension": ".py",
   "mimetype": "text/x-python",
   "name": "python",
   "nbconvert_exporter": "python",
   "pygments_lexer": "ipython3",
   "version": "3.13.1"
  }
 },
 "nbformat": 4,
 "nbformat_minor": 5
}
